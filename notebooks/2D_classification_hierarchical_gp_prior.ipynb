{
 "cells": [
  {
   "cell_type": "code",
   "execution_count": 1,
   "metadata": {},
   "outputs": [],
   "source": [
    "%matplotlib inline  "
   ]
  },
  {
   "cell_type": "code",
   "execution_count": 2,
   "metadata": {},
   "outputs": [],
   "source": [
    "import os\n",
    "import sys\n",
    "import math\n",
    "import numpy as np\n",
    "import math\n",
    "import torch\n",
    "import pickle\n",
    "import matplotlib.pyplot as plt\n",
    "import matplotlib as mpl\n",
    "import torch.utils.data as data_utils\n",
    "\n",
    "from pathlib import Path"
   ]
  },
  {
   "cell_type": "code",
   "execution_count": 3,
   "metadata": {},
   "outputs": [],
   "source": [
    "os.chdir(\"..\")"
   ]
  },
  {
   "cell_type": "code",
   "execution_count": 4,
   "metadata": {},
   "outputs": [],
   "source": [
    "from optbnn.gp.models.gpr import GPR\n",
    "from optbnn.gp import kernels, mean_functions, priors\n",
    "from optbnn.bnn.reparam_nets import GaussianMLPReparameterization\n",
    "from optbnn.bnn.nets.mlp import MLP\n",
    "from optbnn.bnn.likelihoods import LikCategorical\n",
    "from optbnn.bnn.priors import OptimGaussianPrior, FixedGaussianPrior\n",
    "from optbnn.prior_mappers.wasserstein_mapper import MapperWasserstein, WassersteinDistance\n",
    "from optbnn.utils.rand_generators import ClassificationGenerator\n",
    "from optbnn.utils.normalization import normalize_data\n",
    "from optbnn.utils import util\n",
    "from optbnn.sgmcmc_bayes_net.classification_net import ClassificationNet"
   ]
  },
  {
   "cell_type": "code",
   "execution_count": 5,
   "metadata": {},
   "outputs": [],
   "source": [
    "mpl.rcParams['figure.dpi'] = 100"
   ]
  },
  {
   "cell_type": "code",
   "execution_count": 6,
   "metadata": {},
   "outputs": [],
   "source": [
    "util.set_seed(123)"
   ]
  },
  {
   "cell_type": "markdown",
   "metadata": {},
   "source": [
    "# 1. Load `Banana` dataset"
   ]
  },
  {
   "cell_type": "code",
   "execution_count": 7,
   "metadata": {},
   "outputs": [],
   "source": [
    "DATA_DIR = \"./data/banana\"\n",
    "OUT_DIR = \"./exp/banana\""
   ]
  },
  {
   "cell_type": "code",
   "execution_count": 8,
   "metadata": {},
   "outputs": [],
   "source": [
    "# Load banana dataset\n",
    "X = np.loadtxt(os.path.join(\n",
    "    DATA_DIR, \"banana_X_train\"), delimiter=\",\").astype(np.float32)\n",
    "y = np.loadtxt(os.path.join(\n",
    "    DATA_DIR, \"banana_Y_train\"), delimiter=\",\").reshape([-1]).astype(np.int64)"
   ]
  },
  {
   "cell_type": "code",
   "execution_count": 9,
   "metadata": {},
   "outputs": [],
   "source": [
    "# Setup directories\n",
    "ckpt_dir = os.path.join(OUT_DIR, \"ckpts\")\n",
    "figs_dir = os.path.join(OUT_DIR, \"figs\")\n",
    "util.ensure_dir(ckpt_dir)\n",
    "util.ensure_dir(figs_dir)"
   ]
  },
  {
   "cell_type": "markdown",
   "metadata": {},
   "source": [
    "# 2. Configure hyper-parameters"
   ]
  },
  {
   "cell_type": "markdown",
   "metadata": {},
   "source": [
    "Configure the neural network architecture. In this experiment, we use a 2-hidden layer MLP with tanh activation function. The number of hidden units at each layer is 100."
   ]
  },
  {
   "cell_type": "code",
   "execution_count": 10,
   "metadata": {},
   "outputs": [],
   "source": [
    "input_dim = 2\n",
    "output_dim = 2\n",
    "hidden_dims = [100] * 2\n",
    "activation_fn = \"tanh\""
   ]
  },
  {
   "cell_type": "markdown",
   "metadata": {},
   "source": [
    "Configure the hyper-parameters ofWasserstein optimization.  "
   ]
  },
  {
   "cell_type": "code",
   "execution_count": 11,
   "metadata": {},
   "outputs": [],
   "source": [
    "mapper_batch_size = 256        # The size of the measurement set. The measurement points are sampled from the training data.\n",
    "mapper_n_samples = 128         # The size of mini batch used in Wasserstein optimization\n",
    "mapper_n_lipschitz_iters = 200 # The number of Lipschitz function iterations per prior iteration\n",
    "mapper_n_prior_iters = 200     # The number of prior iterations\n",
    "mapper_lipschitz_lr = 0.02     # The learning rate for the opimization of the Lipschitz function (inner loop)\n",
    "mapper_prior_lr = 0.05         # The learning rate for the optimization of the prior (outer loop)"
   ]
  },
  {
   "cell_type": "markdown",
   "metadata": {},
   "source": [
    "Configure the hyper-parameters for the SGHMC sampler.  "
   ]
  },
  {
   "cell_type": "code",
   "execution_count": 12,
   "metadata": {},
   "outputs": [],
   "source": [
    "sampler_batch_size = 32\n",
    "sampling_configs = {\n",
    "    \"batch_size\": sampler_batch_size, # Mini-batch size\n",
    "    \"num_samples\": 40,                # Total number of samples for each chain \n",
    "    \"n_discarded\": 10,                # Number of the first samples to be discared for each chain\n",
    "    \"num_burn_in_steps\": 200,         # Number of burn-in steps\n",
    "    \"keep_every\": 200,                # Thinning interval\n",
    "    \"lr\": 1e-2,                       # Step size\n",
    "    \"num_chains\": 4,                  # Number of chains\n",
    "    \"mdecay\": 1e-2,                   # Momentum coefficient\n",
    "    \"print_every_n_samples\": 5\n",
    "}"
   ]
  },
  {
   "cell_type": "markdown",
   "metadata": {},
   "source": [
    "# 3. Optimize priors"
   ]
  },
  {
   "cell_type": "code",
   "execution_count": 12,
   "metadata": {},
   "outputs": [
    {
     "name": "stdout",
     "output_type": "stream",
     "text": [
      "Warning: There's no GPU available on this machine,training will be performed on CPU.\n",
      "Start optimizing prior\n",
      ">>> Iteration #   1: Wasserstein Dist 125.7416\n",
      ">>> Iteration #   5: Wasserstein Dist 8.4161\n",
      ">>> Iteration #  10: Wasserstein Dist 14.2983\n",
      ">>> Iteration #  15: Wasserstein Dist 10.7402\n",
      ">>> Iteration #  20: Wasserstein Dist 11.4510\n",
      ">>> Iteration #  25: Wasserstein Dist 5.8024\n",
      ">>> Iteration #  30: Wasserstein Dist 4.8648\n",
      ">>> Iteration #  35: Wasserstein Dist 9.0572\n",
      ">>> Iteration #  40: Wasserstein Dist 2.7597\n",
      ">>> Iteration #  45: Wasserstein Dist 7.2504\n",
      ">>> Iteration #  50: Wasserstein Dist 5.5330\n",
      ">>> Iteration #  55: Wasserstein Dist 16.0414\n",
      ">>> Iteration #  60: Wasserstein Dist 2.7875\n",
      ">>> Iteration #  65: Wasserstein Dist 1.6808\n",
      ">>> Iteration #  70: Wasserstein Dist 3.8779\n",
      ">>> Iteration #  75: Wasserstein Dist -0.8842\n",
      ">>> Iteration #  80: Wasserstein Dist 7.4204\n",
      ">>> Iteration #  85: Wasserstein Dist 8.7739\n",
      ">>> Iteration #  90: Wasserstein Dist 4.1306\n",
      ">>> Iteration #  95: Wasserstein Dist 0.2905\n",
      ">>> Iteration # 100: Wasserstein Dist -2.3849\n",
      ">>> Iteration # 105: Wasserstein Dist 9.2522\n",
      ">>> Iteration # 110: Wasserstein Dist -1.8483\n",
      ">>> Iteration # 115: Wasserstein Dist 8.8616\n",
      ">>> Iteration # 120: Wasserstein Dist 1.2988\n",
      ">>> Iteration # 125: Wasserstein Dist 11.1839\n",
      ">>> Iteration # 130: Wasserstein Dist 13.0720\n",
      ">>> Iteration # 135: Wasserstein Dist 11.3237\n",
      ">>> Iteration # 140: Wasserstein Dist -5.5962\n",
      ">>> Iteration # 145: Wasserstein Dist 1.6802\n",
      ">>> Iteration # 150: Wasserstein Dist -5.3202\n",
      ">>> Iteration # 155: Wasserstein Dist -0.5445\n",
      ">>> Iteration # 160: Wasserstein Dist 12.2698\n",
      ">>> Iteration # 165: Wasserstein Dist 0.9491\n",
      ">>> Iteration # 170: Wasserstein Dist 9.8155\n",
      ">>> Iteration # 175: Wasserstein Dist -12.8866\n",
      ">>> Iteration # 180: Wasserstein Dist 6.5252\n",
      ">>> Iteration # 185: Wasserstein Dist 3.0807\n",
      ">>> Iteration # 190: Wasserstein Dist 7.4355\n",
      ">>> Iteration # 195: Wasserstein Dist 1.7805\n",
      ">>> Iteration # 200: Wasserstein Dist -0.6648\n",
      "Saved intermediate wasserstein values in: ./exp/banana/hierarchical/wsr_intermediate_values.log\n",
      "--------------------------------------------------------------------------------\n"
     ]
    }
   ],
   "source": [
    "input_dim = 2\n",
    "\n",
    "# Initialize data loader for the mapper\n",
    "data_loader = data_utils.DataLoader(\n",
    "                    data_utils.TensorDataset(torch.from_numpy(X),\n",
    "                                             torch.from_numpy(y)),\n",
    "                    batch_size=mapper_batch_size, shuffle=True)\n",
    "\n",
    "# Setup the measurement set generator\n",
    "# We draw measurement points from the training data\n",
    "rand_generator = ClassificationGenerator(data_loader)\n",
    "\n",
    "# Specify the target GP prior\n",
    "lengthscale = math.sqrt(2. * input_dim)\n",
    "variance = 8.\n",
    "\n",
    "X_, y_ = rand_generator.get(return_label=True)\n",
    "kernel = kernels.RBF(\n",
    "    input_dim,\n",
    "    lengthscales=torch.tensor([lengthscale], dtype=torch.double),\n",
    "    variance=torch.tensor([variance], dtype=torch.double),\n",
    "    ARD=True)\n",
    "\n",
    "kernel.lengthscales.prior = priors.LogNormal(\n",
    "        torch.ones([input_dim]) * math.log(lengthscale),\n",
    "        torch.ones([input_dim]) * 1.)\n",
    "\n",
    "kernel.variance.prior = priors.LogNormal(\n",
    "    torch.ones([1]) * math.log(variance),\n",
    "    torch.ones([1]) * 0.3)\n",
    "\n",
    "gp = GPR(X_.reshape([mapper_batch_size, -1]).double(),\n",
    "                    util.to_one_hot(y_).double(),\n",
    "                    kern=kernel, mean_function=mean_functions.Zero())\n",
    "\n",
    "# Initialize the Gaussian prior to optimize\n",
    "mlp_reparam = GaussianMLPReparameterization(input_dim, output_dim,\n",
    "    hidden_dims, activation_fn, scaled_variance=True)\n",
    "\n",
    "# Initialize the mapper\n",
    "saved_dir = os.path.join(OUT_DIR, \"hierarchical\")\n",
    "mapper = MapperWasserstein(gp, mlp_reparam, rand_generator, out_dir=saved_dir,\n",
    "                           output_dim=output_dim,\n",
    "                           n_data=mapper_batch_size,\n",
    "                           wasserstein_steps=(0, mapper_n_lipschitz_iters),\n",
    "                           wasserstein_lr=mapper_lipschitz_lr,\n",
    "                           wasserstein_thres=0.1,\n",
    "                           n_gpu=1)\n",
    "\n",
    "# Start optimization\n",
    "print(\"Start optimizing prior\")\n",
    "w_hist = mapper.optimize(num_iters=mapper_n_prior_iters, n_samples=mapper_n_samples,\n",
    "                lr=mapper_prior_lr, print_every=5,\n",
    "                save_ckpt_every=20, debug=True)\n",
    "path = os.path.join(saved_dir, \"wsr_values.log\")\n",
    "np.savetxt(path, w_hist, fmt='%.6e')\n",
    "print(\"----\" * 20)"
   ]
  },
  {
   "cell_type": "markdown",
   "metadata": {},
   "source": [
    "## 3.1 Visualize the convergence plots"
   ]
  },
  {
   "cell_type": "code",
   "execution_count": 17,
   "metadata": {},
   "outputs": [
    {
     "data": {
      "image/png": "[encoded data removed]",
      "text/plain": [
       "<Figure size 360x216 with 1 Axes>"
      ]
     },
     "metadata": {
      "needs_background": "light"
     },
     "output_type": "display_data"
    }
   ],
   "source": [
    "fig = plt.figure(figsize=(5, 3))\n",
    "\n",
    "wdist_file = os.path.join(OUT_DIR, \"hierarchical\", \"wsr_values.log\")\n",
    "wdist_vals = np.loadtxt(wdist_file)\n",
    "\n",
    "plt.plot(wdist_vals, \"-ok\", ms=2, alpha=0.8)\n",
    "plt.xlabel(\"Iteration\")\n",
    "plt.ylabel(r\"$W_1(p_{gp}, p_{nn})$\")\n",
    "plt.show()"
   ]
  },
  {
   "cell_type": "markdown",
   "metadata": {},
   "source": [
    "# 4. Sample from posterior using SGHMC sampler"
   ]
  },
  {
   "cell_type": "code",
   "execution_count": 20,
   "metadata": {},
   "outputs": [
    {
     "name": "stdout",
     "output_type": "stream",
     "text": [
      "Loading prior: ./exp/banana/hierarchical/ckpts/it-200.ckpt\n",
      "Chain: 0\n",
      "Samples #     5 : NLL = 0.10592 Acc = 1.0000 \n",
      "Samples #    10 : NLL = 0.12501 Acc = 0.9688 \n",
      "Samples #    15 : NLL = 0.18596 Acc = 0.9375 \n",
      "Samples #    20 : NLL = 0.08872 Acc = 1.0000 \n",
      "Samples #    25 : NLL = 0.18447 Acc = 0.9688 \n",
      "Samples #    30 : NLL = 0.26645 Acc = 0.8750 \n",
      "Chain: 1\n",
      "Samples #    35 : NLL = 0.31364 Acc = 0.8125 \n",
      "Samples #    40 : NLL = 0.25271 Acc = 0.8750 \n",
      "Samples #    45 : NLL = 0.19041 Acc = 0.9375 \n",
      "Samples #    50 : NLL = 0.09256 Acc = 1.0000 \n",
      "Samples #    55 : NLL = 0.23789 Acc = 0.8750 \n",
      "Samples #    60 : NLL = 0.24201 Acc = 0.9375 \n",
      "Chain: 2\n",
      "Samples #    65 : NLL = 0.28993 Acc = 0.8438 \n",
      "Samples #    70 : NLL = 0.30030 Acc = 0.8438 \n",
      "Samples #    75 : NLL = 0.18345 Acc = 0.9062 \n",
      "Samples #    80 : NLL = 0.22084 Acc = 0.9375 \n",
      "Samples #    85 : NLL = 0.19067 Acc = 0.9688 \n",
      "Samples #    90 : NLL = 0.22572 Acc = 0.9062 \n",
      "Chain: 3\n",
      "Samples #    95 : NLL = 0.15694 Acc = 0.9688 \n",
      "Samples #   100 : NLL = 0.21776 Acc = 0.9375 \n",
      "Samples #   105 : NLL = 0.14339 Acc = 1.0000 \n",
      "Samples #   110 : NLL = 0.32021 Acc = 0.8125 \n",
      "Samples #   115 : NLL = 0.19238 Acc = 0.9688 \n",
      "Samples #   120 : NLL = 0.15033 Acc = 0.9375 \n"
     ]
    },
    {
     "name": "stderr",
     "output_type": "stream",
     "text": [
      "120it [00:00, 147.27it/s]\n"
     ]
    }
   ],
   "source": [
    "data_loader = data_utils.DataLoader(\n",
    "                    data_utils.TensorDataset(torch.from_numpy(X), torch.from_numpy(y)),\n",
    "                    batch_size=sampler_batch_size, shuffle=True)\n",
    "        \n",
    "# Setup the likelihood\n",
    "net = MLP(input_dim, output_dim, hidden_dims, activation_fn,\n",
    "        task=\"classification\")\n",
    "likelihood = LikCategorical()\n",
    "\n",
    "# Load the optimized prior\n",
    "saved_dir = os.path.join(OUT_DIR, \"hierarchical\")\n",
    "ckpt_path = os.path.join(saved_dir, \"ckpts\", \"it-{}.ckpt\".format(mapper_n_prior_iters))\n",
    "print(\"Loading prior: {}\".format(ckpt_path))\n",
    "prior = OptimGaussianPrior(ckpt_path)\n",
    "\n",
    "# Initialize the Bayesian net\n",
    "samples_dir = os.path.join(saved_dir, \"samples\")\n",
    "util.ensure_dir(samples_dir)\n",
    "bayes_net = ClassificationNet(net, likelihood, prior, saved_dir, n_gpu=0)\n",
    "\n",
    "# Start sampling using SGHMC sampler\n",
    "bayes_net.sample_multi_chains(data_loader=data_loader, **sampling_configs)\n",
    "mean_preds, preds = bayes_net.evaluate(data_loader, True, True)\n",
    "\n",
    "# Make predictions using the posterior\n",
    "preds = []\n",
    "pred_means = []\n",
    "targets = []\n",
    "with torch.no_grad():\n",
    "    for i, (data, target) in enumerate(data_loader):\n",
    "        pred_mean, pred = bayes_net.predict(\n",
    "            data, return_individual_predictions=True,\n",
    "            num_samples=40)\n",
    "\n",
    "        pred_means.append(pred_mean)\n",
    "        preds.append(pred)\n",
    "        targets.append(target)\n",
    "\n",
    "pred_means = torch.cat(pred_means, dim=0).cpu().numpy()\n",
    "preds = torch.cat(preds, dim=1).cpu().numpy()\n",
    "targets = torch.cat(targets, dim=0).cpu().numpy()\n",
    "x_grid = np.linspace(-3, 3, 40)\n",
    "xx, yy = np.meshgrid(x_grid, x_grid)\n",
    "Xplot = np.vstack((xx.flatten(), yy.flatten())).T\n",
    "\n",
    "p, _ = bayes_net.predict(torch.from_numpy(Xplot).float(), True, True)\n",
    "p = p.cpu().numpy()\n",
    "\n",
    "# Save the predictions to file\n",
    "data = { \"xx\": xx, \"yy\": yy, \"X\": X, \"y\": y, \"p\": p}\n",
    "with open(os.path.join(saved_dir, \"preds.pickle\"), 'wb') as f:\n",
    "    pickle.dump(data, f, protocol=pickle.HIGHEST_PROTOCOL)"
   ]
  },
  {
   "cell_type": "markdown",
   "metadata": {},
   "source": [
    "# 5. Visualize predictive posterior"
   ]
  },
  {
   "cell_type": "code",
   "execution_count": 33,
   "metadata": {},
   "outputs": [
    {
     "data": {
      "image/png": "[encoded data removed]",
      "text/plain": [
       "<Figure size 300x300 with 1 Axes>"
      ]
     },
     "metadata": {
      "needs_background": "light"
     },
     "output_type": "display_data"
    }
   ],
   "source": [
    "fig = plt.figure(figsize=(3, 3))\n",
    "\n",
    "data_file = os.path.join(OUT_DIR, \"hierarchical\", \"preds.pickle\")\n",
    "        \n",
    "with open(data_file, \"rb\") as f:\n",
    "    data = pickle.load(f)\n",
    "\n",
    "X = data['X']\n",
    "y = data['y']\n",
    "p = data['p']\n",
    "xx = data['xx']\n",
    "yy = data['yy']\n",
    "\n",
    "mask = y.reshape([-1, 1])[:, 0] == 1\n",
    "Xplot = np.vstack((xx.flatten(), yy.flatten())).T\n",
    "\n",
    "plt.plot(X[mask, 0], X[mask, 1], \"oC0\", mew=0, alpha=0.5, ms=6)\n",
    "plt.plot(X[np.logical_not(mask), 0], X[np.logical_not(mask), 1], \"oC1\", mew=0, alpha=0.5, ms=6)\n",
    "CS = plt.contour(\n",
    "    xx,\n",
    "    yy,\n",
    "    p[:, 0].reshape(*xx.shape),\n",
    "    [0.2, 0.5, 0.8],\n",
    "    colors=\"k\",\n",
    "    linewidths=0.7,\n",
    "    zorder=100,\n",
    ")\n",
    "plt.clabel(CS, inline=1, fontsize=13, fmt='%1.1f')\n",
    "plt.show()"
   ]
  }
 ],
 "metadata": {
  "kernelspec": {
   "display_name": "Python 3",
   "language": "python",
   "name": "python3"
  },
  "language_info": {
   "codemirror_mode": {
    "name": "ipython",
    "version": 3
   },
   "file_extension": ".py",
   "mimetype": "text/x-python",
   "name": "python",
   "nbconvert_exporter": "python",
   "pygments_lexer": "ipython3",
   "version": "3.6.9"
  }
 },
 "nbformat": 4,
 "nbformat_minor": 4
}
